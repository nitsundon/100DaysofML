{
  "nbformat": 4,
  "nbformat_minor": 0,
  "metadata": {
    "colab": {
      "provenance": [],
      "mount_file_id": "https://github.com/nitsundon/100DaysofML/blob/main/Day01/LSTMrev02.ipynb",
      "authorship_tag": "ABX9TyMcjPHtnk7yZC7cp+NI2XTT",
      "include_colab_link": true
    },
    "kernelspec": {
      "name": "python3",
      "display_name": "Python 3"
    },
    "language_info": {
      "name": "python"
    }
  },
  "cells": [
    {
      "cell_type": "markdown",
      "metadata": {
        "id": "view-in-github",
        "colab_type": "text"
      },
      "source": [
        "<a href=\"https://colab.research.google.com/github/nitsundon/100DaysofML/blob/main/Day01/LSTMrev02.ipynb\" target=\"_parent\"><img src=\"https://colab.research.google.com/assets/colab-badge.svg\" alt=\"Open In Colab\"/></a>"
      ]
    },
    {
      "cell_type": "code",
      "execution_count": null,
      "metadata": {
        "id": "W4YCpIuZ-Gva"
      },
      "outputs": [],
      "source": [
        "import pandas as pd\n",
        "from sklearn.preprocessing import MinMaxScaler\n",
        "import plotly.express as px\n",
        "import numpy as np\n"
      ]
    },
    {
      "cell_type": "code",
      "source": [
        "df= pd.read_pickle(\"/content/drive/MyDrive/Libraries/pickle/preprocessed_demand_df.pkl\")\n",
        "df['datetime']=pd.to_datetime(df['datetime'])\n"
      ],
      "metadata": {
        "id": "n9LrlmUkGnJA"
      },
      "execution_count": null,
      "outputs": []
    },
    {
      "cell_type": "code",
      "source": [
        "def create_datetime_features(df):\n",
        "\n",
        "  df['year'] = df['datetime'].dt.year\n",
        "\n",
        "  df['month'] = df['datetime'].dt.month\n",
        "  df['day'] = df['datetime'].dt.day\n",
        "  df['day_of_week'] = df['datetime'].dt.dayofweek\n",
        "  df['day_name'] = df['datetime'].dt.day_name()\n",
        "  df['quarter'] = df['datetime'].dt.quarter\n",
        "  df['year'] = df['datetime'].dt.year\n",
        "  df['block'] = 1+df['datetime'].dt.hour * 4 + df['datetime'].dt.minute // 15\n",
        "  return df.copy();"
      ],
      "metadata": {
        "id": "pASHzxdDG0c1"
      },
      "execution_count": null,
      "outputs": []
    },
    {
      "cell_type": "code",
      "source": [
        "def add_cyclic_features(df, col, max_val,drop_original=True):\n",
        "    df[f'{col}_sin'] = np.sin(2 * np.pi * df[col]/max_val)\n",
        "    df[f'{col}_cos'] = np.cos(2 * np.pi * df[col]/max_val)\n",
        "    if(drop_original):\n",
        "      df.drop(col,axis=1,inplace=True)\n",
        "    return df\n"
      ],
      "metadata": {
        "id": "GCpys7qIH5Iv"
      },
      "execution_count": null,
      "outputs": []
    },
    {
      "cell_type": "code",
      "source": [
        "def create_lags(df,lag_steps):\n",
        "  for i in range(1,lag_steps+1):\n",
        "    df[f'demand_lag_{i}']=df['demand'].shift(i)\n",
        "  return df"
      ],
      "metadata": {
        "id": "m1yTWmSHJMGn"
      },
      "execution_count": null,
      "outputs": []
    },
    {
      "cell_type": "code",
      "source": [
        "def create_lstm_feature_and_target(df):\n",
        "  features = df.drop('demand', axis=1)\n",
        "  target = df['demand']\n",
        "  return features,target"
      ],
      "metadata": {
        "id": "R_mK5aUvOf8o"
      },
      "execution_count": null,
      "outputs": []
    },
    {
      "cell_type": "code",
      "source": [
        "def createXY(dataset,n_past):\n",
        "    dataX = []\n",
        "    dataY = []\n",
        "    for i in range(n_past, len(dataset)):\n",
        "            dataX.append(dataset[i - n_past:i, 0:dataset.shape[1]])\n",
        "            dataY.append(dataset[i,0])\n",
        "    return np.array(dataX),np.array(dataY)\n",
        "\n",
        "\n"
      ],
      "metadata": {
        "id": "vBMG7pAPtD3u"
      },
      "execution_count": null,
      "outputs": []
    }
  ]
}